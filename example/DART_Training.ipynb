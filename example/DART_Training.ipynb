{
 "cells": [
  {
   "cell_type": "code",
   "execution_count": 1,
   "metadata": {},
   "outputs": [],
   "source": [
    "import numpy as np\n",
    "import torch\n",
    "import torch.nn as nn\n",
    "import torch.nn.functional as F\n",
    "from torch.utils.data import Dataset, DataLoader\n",
    "from torch.nn.utils.rnn import pad_sequence\n",
    "import torch.optim as optim\n",
    "# import pdb\n",
    "from torch.optim.lr_scheduler import MultiStepLR, ReduceLROnPlateau\n",
    "from torch.utils.data.sampler import SubsetRandomSampler\n",
    "from tqdm import tqdm\n",
    "import matplotlib.pyplot as plt\n",
    "from get_mods import DartModel, sep_ijkl_dataset\n",
    "\n",
    "device = \"cuda\""
   ]
  },
  {
   "cell_type": "markdown",
   "metadata": {},
   "source": [
    "## Create DART Model"
   ]
  },
  {
   "cell_type": "code",
   "execution_count": 2,
   "metadata": {},
   "outputs": [
    {
     "data": {
      "text/plain": [
       "DartModel(\n",
       "  (fi1): Linear(in_features=3, out_features=128, bias=True)\n",
       "  (fi2): Linear(in_features=128, out_features=128, bias=True)\n",
       "  (fj1): Linear(in_features=3, out_features=128, bias=True)\n",
       "  (fj2): Linear(in_features=128, out_features=128, bias=True)\n",
       "  (fk1): Linear(in_features=3, out_features=128, bias=True)\n",
       "  (fk2): Linear(in_features=128, out_features=128, bias=True)\n",
       "  (fl1): Linear(in_features=3, out_features=128, bias=True)\n",
       "  (fl2): Linear(in_features=128, out_features=128, bias=True)\n",
       "  (inter1): Linear(in_features=128, out_features=256, bias=True)\n",
       "  (inter2): Linear(in_features=256, out_features=128, bias=True)\n",
       "  (inter3): Linear(in_features=128, out_features=32, bias=True)\n",
       "  (inter4): Linear(in_features=32, out_features=1, bias=True)\n",
       ")"
      ]
     },
     "execution_count": 2,
     "metadata": {},
     "output_type": "execute_result"
    }
   ],
   "source": [
    "Dart_model = DartModel(128, 128, 128).to(device)\n",
    "\n",
    "def init_params(m):\n",
    "    if isinstance(m, torch.nn.Linear):\n",
    "        torch.nn.init.kaiming_normal_(m.weight, a=1.0)\n",
    "        if m.bias is not None:\n",
    "            torch.nn.init.zeros_(m.bias)\n",
    "\n",
    "Dart_model.apply(init_params)"
   ]
  },
  {
   "cell_type": "markdown",
   "metadata": {},
   "source": [
    "## Pre-processing of data"
   ]
  },
  {
   "cell_type": "code",
   "execution_count": 3,
   "metadata": {},
   "outputs": [],
   "source": [
    "desc_data = sep_ijkl_dataset(\"../data/small_dataset.npz\")"
   ]
  },
  {
   "cell_type": "markdown",
   "metadata": {},
   "source": [
    "## Create Train:Validation:Test split  and dataloaders"
   ]
  },
  {
   "cell_type": "code",
   "execution_count": 4,
   "metadata": {},
   "outputs": [],
   "source": [
    "validation_split = .1\n",
    "test_split = .1\n",
    "shuffle_dataset = True\n",
    "random_seed= 42\n",
    "\n",
    "# Creating data indices for training and validation splits:\n",
    "dataset_size = len(desc_data)\n",
    "indices = list(range(dataset_size))\n",
    "splitv = int(np.floor(validation_split * dataset_size))\n",
    "splitt = int(np.floor(test_split * dataset_size))\n",
    "if shuffle_dataset :\n",
    "    np.random.seed(random_seed)\n",
    "    np.random.shuffle(indices)\n",
    "train_indices, val_indices, test_indices = indices[splitt+splitv:], indices[:splitv], indices[splitv:splitt+splitv]\n",
    "\n",
    "# Creating data samplers and loaders:\n",
    "train_sampler = SubsetRandomSampler(train_indices)\n",
    "valid_sampler = SubsetRandomSampler(val_indices)\n",
    "test_sampler = SubsetRandomSampler(test_indices)\n",
    "\n",
    "trainloader = DataLoader(desc_data, batch_size=32, sampler=train_sampler)\n",
    "validloader = DataLoader(desc_data, batch_size=32, sampler=valid_sampler)\n",
    "testloader = DataLoader(desc_data, batch_size=32, sampler=test_sampler)"
   ]
  },
  {
   "cell_type": "code",
   "execution_count": 5,
   "metadata": {},
   "outputs": [],
   "source": [
    "criterion = torch.nn.L1Loss()\n",
    "optimizer = torch.optim.Adam(Dart_model.parameters(), lr=0.001)\n",
    "scheduler = ReduceLROnPlateau(optimizer, mode=\"min\", patience=25, verbose=True, eps=1e-09)"
   ]
  },
  {
   "cell_type": "markdown",
   "metadata": {},
   "source": [
    "## Training loop"
   ]
  },
  {
   "cell_type": "code",
   "execution_count": 6,
   "metadata": {},
   "outputs": [],
   "source": [
    "epochal_train_losses = []\n",
    "epochal_val_losses  = []\n",
    "num_epochs = 1500\n",
    "epoch_freq = 50\n",
    "       \n",
    "def test(Dart_model, testloader):\n",
    "    mae = torch.nn.L1Loss()\n",
    "    rmse = torch.nn.MSELoss()\n",
    "    pred_energy = torch.tensor([], device=\"cuda\")\n",
    "    real_energy = torch.tensor([], device=\"cuda\")\n",
    "    cluster_size = torch.tensor([], device=\"cuda\")\n",
    "    Dart_model.eval()\n",
    "    with torch.no_grad():\n",
    "        for batch in testloader:\n",
    "            energy = Dart_model(batch[\"atm_i\"], batch[\"atm_j\"], batch[\"atm_k\"], batch[\"atm_l\"])\n",
    "            energy = energy.sum(axis=1).squeeze(dim=1)\n",
    "            pred_energy = torch.cat((pred_energy, energy))\n",
    "            real_energy = torch.cat((real_energy, batch[\"energy\"]))\n",
    "            cluster_size = torch.cat((cluster_size, batch[\"atm_i\"][:,0].sum(axis=1)))\n",
    "        results = torch.stack((cluster_size, real_energy, pred_energy), axis=1)\n",
    "        test_loss = mae(pred_energy, real_energy)\n",
    "        rmse_loss = torch.sqrt(rmse(pred_energy, real_energy))\n",
    "        print(\"Test MAE = \", test_loss.item(), \"Test RMSE = \", rmse_loss.item())\n",
    "        return results, test_loss, rmse_loss\n",
    "    \n",
    "def train(Dart_model, optimizer, epochal_train_losses, criterion):\n",
    "    train_loss = 0.00\n",
    "    n = 0\n",
    "    Dart_model.train()\n",
    "    for batch in trainloader:\n",
    "        optimizer.zero_grad()\n",
    "        energy = Dart_model(batch[\"atm_i\"], batch[\"atm_j\"], batch[\"atm_k\"], batch[\"atm_l\"])\n",
    "        energy = energy.sum(axis=1)\n",
    "        batch_loss = criterion(energy, batch[\"energy\"].unsqueeze(dim=1))\n",
    "        batch_loss.backward()\n",
    "        optimizer.step()\n",
    "        \n",
    "        train_loss += batch_loss.detach().cpu()\n",
    "        n += 1\n",
    "    train_loss /= n\n",
    "    epochal_train_losses.append(train_loss)\n",
    "\n",
    "def train_and_evaluate(Dart_model, optimizer, scheduler, criterion, start_epoch=1, restart=None):\n",
    "    if restart:\n",
    "        restore_path = os.path.join(log_dir + \"/last.pth.tar\")\n",
    "        checkpoint = load_checkpoint(restore_path, Dart_model, optimizer)\n",
    "        start_epoch = checkpoint[\"epoch\"]\n",
    "\n",
    "    best_val = 100000.00\n",
    "    early_stopping_learning_rate = 1.0E-8\n",
    "    \n",
    "    for epoch in range(1, num_epochs+1):\n",
    "        learning_rate = optimizer.param_groups[0]['lr']\n",
    "        if learning_rate < early_stopping_learning_rate:\n",
    "            break\n",
    "\n",
    "        ############ training #############\n",
    "        train(Dart_model, optimizer, epochal_train_losses, criterion)\n",
    "        \n",
    "        ############ validation #############\n",
    "        n=0\n",
    "        val_loss = 0.0\n",
    "        Dart_model.eval()\n",
    "        for batch in validloader:\n",
    "            energy = Dart_model(batch[\"atm_i\"], batch[\"atm_j\"], batch[\"atm_k\"], batch[\"atm_l\"])\n",
    "            energy = energy.sum(axis=1)\n",
    "            batch_loss = criterion(energy, batch[\"energy\"].unsqueeze(dim=1))\n",
    "            val_loss += batch_loss.detach().cpu()\n",
    "            n += 1\n",
    "        val_loss /= n\n",
    "        epochal_val_losses.append(val_loss)\n",
    "        scheduler.step(val_loss)\n",
    "     \n",
    "        is_best = val_loss <= best_val\n",
    "        if epoch % epoch_freq == 0:\n",
    "            print(\"Epoch: {: <5} Train: {: <20} Val: {: <20}\".format(epoch, epochal_train_losses[-1], val_loss))"
   ]
  },
  {
   "cell_type": "markdown",
   "metadata": {},
   "source": [
    "## Let's start training"
   ]
  },
  {
   "cell_type": "code",
   "execution_count": 7,
   "metadata": {},
   "outputs": [
    {
     "name": "stdout",
     "output_type": "stream",
     "text": [
      "Epoch: 50    Train: 49.676185607910156   Val: 53.856201171875     \n",
      "Epoch: 100   Train: 31.35338592529297    Val: 26.786556243896484  \n",
      "Epoch: 150   Train: 29.05525779724121    Val: 33.55292510986328   \n",
      "Epoch: 200   Train: 21.536075592041016   Val: 22.581836700439453  \n",
      "Epoch: 250   Train: 16.92246437072754    Val: 10.504938125610352  \n",
      "Epoch: 300   Train: 10.06122875213623    Val: 23.085935592651367  \n",
      "Epoch   345: reducing learning rate of group 0 to 1.0000e-04.\n",
      "Epoch: 350   Train: 6.027857780456543    Val: 6.5783209800720215  \n",
      "Epoch: 400   Train: 3.791963815689087    Val: 4.721932888031006   \n",
      "Epoch: 450   Train: 4.0882673263549805   Val: 8.823332786560059   \n",
      "Epoch: 500   Train: 3.472008228302002    Val: 3.7413578033447266  \n",
      "Epoch: 550   Train: 3.4577808380126953   Val: 3.4182188510894775  \n",
      "Epoch: 600   Train: 3.428903818130493    Val: 3.4395575523376465  \n",
      "Epoch: 650   Train: 3.574364423751831    Val: 4.09423828125       \n",
      "Epoch   666: reducing learning rate of group 0 to 1.0000e-05.\n",
      "Epoch: 700   Train: 2.637937068939209    Val: 3.2472004890441895  \n",
      "Epoch: 750   Train: 2.6128995418548584   Val: 3.505984306335449   \n",
      "Epoch   766: reducing learning rate of group 0 to 1.0000e-06.\n",
      "Epoch   792: reducing learning rate of group 0 to 1.0000e-07.\n",
      "Epoch: 800   Train: 2.5518815517425537   Val: 3.230506420135498   \n",
      "Epoch   818: reducing learning rate of group 0 to 1.0000e-08.\n",
      "Epoch: 850   Train: 2.5514659881591797   Val: 3.248461961746216   \n",
      "Epoch   852: reducing learning rate of group 0 to 1.0000e-09.\n"
     ]
    }
   ],
   "source": [
    "train_and_evaluate(Dart_model, optimizer, scheduler, criterion)"
   ]
  },
  {
   "cell_type": "markdown",
   "metadata": {},
   "source": [
    "## Testing the model on unseen data (test-set)"
   ]
  },
  {
   "cell_type": "code",
   "execution_count": 8,
   "metadata": {},
   "outputs": [
    {
     "name": "stdout",
     "output_type": "stream",
     "text": [
      "Test MAE =  3.3046875 Test RMSE =  4.187680244445801\n"
     ]
    }
   ],
   "source": [
    "results, test_mae, test_rmse = test(Dart_model, testloader)"
   ]
  },
  {
   "cell_type": "code",
   "execution_count": 9,
   "metadata": {},
   "outputs": [],
   "source": [
    "# plt.plot(np.arange(0, len(epochal_train_losses[10:]), 1), epochal_train_losses[10:], label='Training Loss')\n",
    "# plt.plot(np.arange(0, len(epochal_train_losses[10:]), 1), epochal_val_losses[10:], label='validation loss')\n",
    "# plt.legend(loc='best')\n",
    "# plt.xlabel(\"Epochs\")\n",
    "# plt.ylabel(\"Loss\")\n",
    "# plt.show()"
   ]
  },
  {
   "cell_type": "code",
   "execution_count": 10,
   "metadata": {},
   "outputs": [
    {
     "data": {
      "image/png": "[encoded data removed]",
      "text/plain": [
       "<Figure size 432x288 with 1 Axes>"
      ]
     },
     "metadata": {
      "needs_background": "light"
     },
     "output_type": "display_data"
    }
   ],
   "source": [
    "plt.plot(np.arange(0, len(epochal_train_losses), 1), epochal_train_losses, label='Training Loss')\n",
    "plt.plot(np.arange(0, len(epochal_train_losses), 1), epochal_val_losses, label='validation loss')\n",
    "plt.legend(loc='best')\n",
    "plt.xlabel(\"Epochs\")\n",
    "plt.ylabel(\"Loss\")\n",
    "plt.show()"
   ]
  },
  {
   "cell_type": "code",
   "execution_count": 11,
   "metadata": {},
   "outputs": [
    {
     "data": {
      "image/png": "[encoded data removed]",
      "text/plain": [
       "<Figure size 432x288 with 1 Axes>"
      ]
     },
     "metadata": {
      "needs_background": "light"
     },
     "output_type": "display_data"
    }
   ],
   "source": [
    "results = results[results[:,0].argsort()].cpu().numpy()\n",
    "\n",
    "# plt.plot(np.arange(0, results.shape[0]), abs(results[:,1]-results[:,2]), label='Training Loss')\n",
    "plt.hist(abs(results[:,1]-results[:,2]), density=True)\n",
    "plt.xlabel(\"MAE\")\n",
    "plt.ylabel(\"Freq\")\n",
    "plt.show()"
   ]
  },
  {
   "cell_type": "code",
   "execution_count": 12,
   "metadata": {},
   "outputs": [
    {
     "data": {
      "image/png": "[encoded data removed]",
      "text/plain": [
       "<Figure size 432x288 with 1 Axes>"
      ]
     },
     "metadata": {
      "needs_background": "light"
     },
     "output_type": "display_data"
    }
   ],
   "source": [
    "some_res = np.split(results[:,1:], np.unique(results[:, 0], return_index=True)[1][1:])\n",
    "diff = [abs(i[:,0]-i[:,1]).mean() for i in some_res]\n",
    "plt.title(\"Cluster size vs MAE\")\n",
    "plt.bar(np.arange(31, 41), diff, label='Training Loss')\n",
    "plt.xlabel(\"Cluster size\")\n",
    "plt.ylabel(\"MAE\")\n",
    "plt.show()"
   ]
  },
  {
   "cell_type": "code",
   "execution_count": 13,
   "metadata": {},
   "outputs": [
    {
     "data": {
      "image/png": "[encoded data removed]",
      "text/plain": [
       "<Figure size 432x288 with 1 Axes>"
      ]
     },
     "metadata": {
      "needs_background": "light"
     },
     "output_type": "display_data"
    }
   ],
   "source": [
    "trainset = desc_data[train_indices][\"atm_i\"]\n",
    "lol = trainset[:,0].sum(axis=1)\n",
    "sizzle = [i.item() for i in lol]\n",
    "plt.title(\"Train set Cluster distribution, size = {}\".format(len(sizzle)))\n",
    "plt.xlabel(\"Cluster size\")\n",
    "plt.ylabel(\"Freq\")\n",
    "plt.hist(sizzle, bins=10)\n",
    "plt.show()\n",
    "# plt.savefig(\"cluster_distribution_trainset.png\", bbox_inches='tight')"
   ]
  },
  {
   "cell_type": "code",
   "execution_count": 16,
   "metadata": {},
   "outputs": [
    {
     "data": {
      "image/png": "[encoded data removed]",
      "text/plain": [
       "<Figure size 432x288 with 1 Axes>"
      ]
     },
     "metadata": {
      "needs_background": "light"
     },
     "output_type": "display_data"
    }
   ],
   "source": [
    "trainset = desc_data[test_indices][\"atm_i\"]\n",
    "lol = trainset[:,0].sum(axis=1)\n",
    "sizzle = [i.item() for i in lol]\n",
    "plt.title(\"Test set Cluster distribution, size = {}\".format(len(sizzle)))\n",
    "plt.xlabel(\"Cluster size\")\n",
    "plt.ylabel(\"Freq\")\n",
    "plt.hist(sizzle, bins=10)\n",
    "plt.show()\n",
    "# plt.savefig(\"cluster_distribution_testset.png\", bbox_inches='tight')"
   ]
  },
  {
   "cell_type": "code",
   "execution_count": 17,
   "metadata": {},
   "outputs": [
    {
     "data": {
      "image/png": "[encoded data removed]",
      "text/plain": [
       "<Figure size 432x288 with 1 Axes>"
      ]
     },
     "metadata": {
      "needs_background": "light"
     },
     "output_type": "display_data"
    }
   ],
   "source": [
    "trainset = desc_data[val_indices][\"atm_i\"]\n",
    "lol = trainset[:,0].sum(axis=1)\n",
    "sizzle = [i.item() for i in lol]\n",
    "plt.title(\"Validation set Cluster distribution, size = {}\".format(len(sizzle)))\n",
    "plt.hist(sizzle, bins=10)\n",
    "plt.xlabel(\"Cluster size\")\n",
    "plt.ylabel(\"Freq\")\n",
    "plt.show()\n",
    "# plt.savefig(\"cluster_distribution_validationset.png\", bbox_inches='tight')"
   ]
  },
  {
   "cell_type": "code",
   "execution_count": null,
   "metadata": {},
   "outputs": [],
   "source": []
  }
 ],
 "metadata": {
  "kernelspec": {
   "display_name": "Python [conda env:qmml] *",
   "language": "python",
   "name": "conda-env-qmml-py"
  },
  "language_info": {
   "codemirror_mode": {
    "name": "ipython",
    "version": 3
   },
   "file_extension": ".py",
   "mimetype": "text/x-python",
   "name": "python",
   "nbconvert_exporter": "python",
   "pygments_lexer": "ipython3",
   "version": "3.7.5"
  }
 },
 "nbformat": 4,
 "nbformat_minor": 4
}
