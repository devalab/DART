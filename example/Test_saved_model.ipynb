{
 "cells": [
  {
   "cell_type": "code",
   "execution_count": 1,
   "metadata": {},
   "outputs": [],
   "source": [
    "import numpy as np\n",
    "import torch\n",
    "import torch.nn as nn\n",
    "import torch.nn.functional as F\n",
    "from torch.utils.data import Dataset, DataLoader\n",
    "from torch.nn.utils.rnn import pad_sequence\n",
    "import torch.optim as optim\n",
    "from torch.optim.lr_scheduler import MultiStepLR, ReduceLROnPlateau\n",
    "from torch.utils.data.sampler import SubsetRandomSampler\n",
    "import matplotlib.pyplot as plt\n",
    "import argparse, logging, string, random, sys, os, pdb\n",
    "from datetime import datetime\n",
    "import warnings, shutil\n",
    "import pdb\n",
    "from get_mods import DART_Net, sep_ijkl_dataset, load_checkpoint"
   ]
  },
  {
   "cell_type": "markdown",
   "metadata": {},
   "source": [
    "## Argparser to read config file, restart needs to be given to load saved model"
   ]
  },
  {
   "cell_type": "code",
   "execution_count": 2,
   "metadata": {},
   "outputs": [
    {
     "name": "stdout",
     "output_type": "stream",
     "text": [
      "Model loaded from directory  runs/20201216072707_Ij2TYXpT\n"
     ]
    }
   ],
   "source": [
    "#define command line arguments\n",
    "parser = argparse.ArgumentParser(fromfile_prefix_chars='@')\n",
    "parser.add_argument(\"--restart\", type=str, default=None,  help=\"restart training from a specific folder\")\n",
    "parser.add_argument(\"--dataset\", type=str,   help=\"file path to dataset\")\n",
    "parser.add_argument(\"--batch_size\", type=int, help=\"batch size used per training step\")\n",
    "parser.add_argument(\"--adam_lr\", default=0.0001, type=float, help=\"learning rate used by the optimizer\")\n",
    "parser.add_argument(\"--decay_steps\", type=int, help=\"decay the learning rate with patience of N steps by decay_rate\")\n",
    "parser.add_argument(\"--max_epochs\", type=int, help=\"Maximum number of epoch\")\n",
    "parser.add_argument(\"--seed\", type=int, help=\"seed for split\")\n",
    "parser.add_argument(\"--lh\", type=int, help=\"Number of hidden layers\")\n",
    "parser.add_argument(\"--lo\", type=int, help=\"Number of outfut feature layers\")\n",
    "parser.add_argument(\"--li2\", type=int, help=\"Number of interaction feature layers\")\n",
    "parser.add_argument(\"--li3\", type=int, help=\"Number of interaction feature layers\")\n",
    "parser.add_argument(\"--li4\", type=int, help=\"Number of interaction feature layers\")\n",
    "\n",
    "device = torch.device('cuda' if torch.cuda.is_available() else 'cpu')\n",
    "\n",
    "#if no command line arguments are present, config file is parsed\n",
    "config_file='config.txt'\n",
    "if len(sys.argv) == 1 or sys.argv[1] == \"-f\":\n",
    "    if os.path.isfile(config_file):\n",
    "        args = parser.parse_args([\"@\"+config_file])\n",
    "    else:\n",
    "        args = parser.parse_args([\"--help\"])\n",
    "else:\n",
    "    args = parser.parse_args()\n",
    "\n",
    "if args.restart is None:\n",
    "    print(\"No restart given cannot load model\")\n",
    "    sys.exit()\n",
    "else:\n",
    "    directory = \"runs/\" + args.restart\n",
    "    print(\"Model loaded from directory \", directory)\n",
    "    config_file = directory + '/config.txt'\n",
    "    args = parser.parse_args([\"@\"+config_file])\n",
    "\n",
    "log_dir = os.path.join(directory, 'logs')\n",
    "if not os.path.exists(log_dir):\n",
    "    print(\"log directory not found\\n\")\n",
    "    sys.exit()\n",
    "\n",
    "fname = directory + \"/test\"\n",
    "if os.path.isfile(fname+\".log\"):\n",
    "    os.remove(fname+\".log\")"
   ]
  },
  {
   "cell_type": "markdown",
   "metadata": {},
   "source": [
    "## Define model "
   ]
  },
  {
   "cell_type": "code",
   "execution_count": 3,
   "metadata": {},
   "outputs": [
    {
     "data": {
      "text/plain": [
       "DART_Net(\n",
       "  (fi1): Linear(in_features=3, out_features=128, bias=True)\n",
       "  (fi2): Linear(in_features=128, out_features=128, bias=True)\n",
       "  (fj1): Linear(in_features=3, out_features=128, bias=True)\n",
       "  (fj2): Linear(in_features=128, out_features=128, bias=True)\n",
       "  (fk1): Linear(in_features=3, out_features=128, bias=True)\n",
       "  (fk2): Linear(in_features=128, out_features=128, bias=True)\n",
       "  (fl1): Linear(in_features=3, out_features=128, bias=True)\n",
       "  (fl2): Linear(in_features=128, out_features=128, bias=True)\n",
       "  (inter1): Linear(in_features=128, out_features=256, bias=True)\n",
       "  (inter2): Linear(in_features=256, out_features=128, bias=True)\n",
       "  (inter3): Linear(in_features=128, out_features=32, bias=True)\n",
       "  (inter4): Linear(in_features=32, out_features=1, bias=True)\n",
       "  (mask): Linear(in_features=128, out_features=128, bias=False)\n",
       ")"
      ]
     },
     "execution_count": 3,
     "metadata": {},
     "output_type": "execute_result"
    }
   ],
   "source": [
    "DART_model = DART_Net(args.lh, args.lo, args.li2, args.li3, args.li4).to(device)\n",
    "logging.info(DART_model)\n",
    "\n",
    "def init_params(m):\n",
    "    if isinstance(m, torch.nn.Linear):\n",
    "        torch.nn.init.kaiming_normal_(m.weight, a=1.0)\n",
    "        if m.bias is not None:\n",
    "            torch.nn.init.zeros_(m.bias)\n",
    "\n",
    "DART_model.apply(init_params)"
   ]
  },
  {
   "cell_type": "markdown",
   "metadata": {},
   "source": [
    "## Create dataloader"
   ]
  },
  {
   "cell_type": "code",
   "execution_count": 4,
   "metadata": {},
   "outputs": [],
   "source": [
    "test_set = sep_ijkl_dataset(args.dataset)\n",
    "test_loader = DataLoader(test_set, batch_size=args.batch_size, shuffle=False)"
   ]
  },
  {
   "cell_type": "markdown",
   "metadata": {},
   "source": [
    "## Testing loop"
   ]
  },
  {
   "cell_type": "code",
   "execution_count": 5,
   "metadata": {},
   "outputs": [],
   "source": [
    "criterion = torch.nn.L1Loss()\n",
    "test_mae = []\n",
    "num_epochs = args.max_epochs\n",
    "\n",
    "def test(variable_model, testloader):\n",
    "    mae = torch.nn.L1Loss()\n",
    "    rmse = torch.nn.MSELoss()\n",
    "    pred_energy = torch.tensor([], device=\"cuda\")\n",
    "    real_energy = torch.tensor([], device=\"cuda\")\n",
    "    cluster_size = torch.tensor([], device=\"cuda\")\n",
    "    variable_model.eval()\n",
    "    with torch.no_grad():\n",
    "        for batch in testloader:\n",
    "            energy = DART_model(batch[\"atm_i\"], batch[\"atm_j\"], batch[\"atm_k\"], batch[\"atm_l\"])\n",
    "            energy = energy.sum(axis=1).squeeze()\n",
    "            pred_energy = torch.cat((pred_energy, energy))\n",
    "            real_energy = torch.cat((real_energy, batch[\"energy\"]))\n",
    "            cluster_size = torch.cat((cluster_size, batch[\"atm_i\"][:,0].sum(axis=1)))\n",
    "        results = torch.stack((cluster_size, real_energy, pred_energy), axis=1)\n",
    "        test_loss = mae(pred_energy, real_energy)\n",
    "        rmse_loss = torch.sqrt(rmse(pred_energy, real_energy))\n",
    "        return results, test_loss, rmse_loss"
   ]
  },
  {
   "cell_type": "markdown",
   "metadata": {},
   "source": [
    "## Restore/load saved model"
   ]
  },
  {
   "cell_type": "code",
   "execution_count": 6,
   "metadata": {},
   "outputs": [],
   "source": [
    "restore_path = os.path.join(log_dir + \"/last.pth.tar\")\n",
    "checkpoint = load_checkpoint(restore_path, DART_model)\n",
    "start_epoch = checkpoint[\"epoch\"]"
   ]
  },
  {
   "cell_type": "markdown",
   "metadata": {},
   "source": [
    "## Lets start testing"
   ]
  },
  {
   "cell_type": "code",
   "execution_count": 7,
   "metadata": {},
   "outputs": [
    {
     "name": "stdout",
     "output_type": "stream",
     "text": [
      "Test MAE: 3.1943 kcal/mol\n",
      "Test RMSE: 4.0826 kcal/mol\n"
     ]
    }
   ],
   "source": [
    "results, test_mae, test_rmse = test(DART_model, test_loader)\n",
    "print(\"Test MAE: {:.4f} kcal/mol\\nTest RMSE: {:.4f} kcal/mol\".format(test_mae.item(), test_rmse.item()))"
   ]
  },
  {
   "cell_type": "code",
   "execution_count": 8,
   "metadata": {},
   "outputs": [
    {
     "data": {
      "image/png": "[encoded data removed]",
      "text/plain": [
       "<Figure size 432x288 with 1 Axes>"
      ]
     },
     "metadata": {
      "needs_background": "light"
     },
     "output_type": "display_data"
    }
   ],
   "source": [
    "results = results[results[:,0].argsort()].cpu().numpy()\n",
    "plt.hist(abs(results[:,1]-results[:,2]), density=True)\n",
    "plt.xlabel(\"MAE\")\n",
    "plt.ylabel(\"Freq\")\n",
    "plt.show()"
   ]
  },
  {
   "cell_type": "code",
   "execution_count": 9,
   "metadata": {},
   "outputs": [
    {
     "data": {
      "image/png": "[encoded data removed]",
      "text/plain": [
       "<Figure size 432x288 with 1 Axes>"
      ]
     },
     "metadata": {
      "needs_background": "light"
     },
     "output_type": "display_data"
    }
   ],
   "source": [
    "some_res = np.split(results[:,1:], np.unique(results[:, 0], return_index=True)[1][1:])\n",
    "diff = [abs(i[:,0]-i[:,1]).mean() for i in some_res]\n",
    "plt.title(\"Cluster size vs MAE\")\n",
    "plt.bar(np.arange(31, 41), diff, label='Training Loss')\n",
    "plt.xlabel(\"Cluster size\")\n",
    "plt.ylabel(\"MAE\")\n",
    "plt.show()"
   ]
  },
  {
   "cell_type": "code",
   "execution_count": 10,
   "metadata": {},
   "outputs": [
    {
     "data": {
      "image/png": "[encoded data removed]",
      "text/plain": [
       "<Figure size 432x288 with 1 Axes>"
      ]
     },
     "metadata": {
      "needs_background": "light"
     },
     "output_type": "display_data"
    }
   ],
   "source": [
    "trainset = test_set[:][\"atm_i\"]\n",
    "lol = trainset[:,0].sum(axis=1)\n",
    "sizzle = [i.item() for i in lol]\n",
    "plt.title(\"Test set Cluster distribution, size = {}\".format(len(sizzle)))\n",
    "plt.xlabel(\"Cluster size\")\n",
    "plt.ylabel(\"Freq\")\n",
    "plt.hist(sizzle, bins=10)\n",
    "plt.show()\n",
    "# plt.savefig(\"cluster_distribution_trainset.png\", bbox_inches='tight')"
   ]
  },
  {
   "cell_type": "code",
   "execution_count": null,
   "metadata": {},
   "outputs": [],
   "source": []
  }
 ],
 "metadata": {
  "kernelspec": {
   "display_name": "Python [conda env:qmml] *",
   "language": "python",
   "name": "conda-env-qmml-py"
  },
  "language_info": {
   "codemirror_mode": {
    "name": "ipython",
    "version": 3
   },
   "file_extension": ".py",
   "mimetype": "text/x-python",
   "name": "python",
   "nbconvert_exporter": "python",
   "pygments_lexer": "ipython3",
   "version": "3.7.5"
  }
 },
 "nbformat": 4,
 "nbformat_minor": 4
}
